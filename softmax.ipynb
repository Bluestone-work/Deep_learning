{
 "cells": [
  {
   "cell_type": "code",
   "execution_count": 28,
   "metadata": {},
   "outputs": [],
   "source": [
    "import torch\n",
    "import torchvision\n",
    "from d2l import torch as d2l\n",
    "from torch.utils.data import DataLoader\n",
    "from IPython import display\n",
    "from torch.utils.tensorboard import SummaryWriter\n",
    "\n",
    "writer = SummaryWriter('DataLoader')\n",
    "trans = torchvision.transforms.ToTensor()\n",
    "\n",
    "mnist_train = torchvision.datasets.FashionMNIST(root = 'E:\\Deep_learning\\data' , train = True , transform = trans , download = True)\n",
    "mnist_test = torchvision.datasets.FashionMNIST(root = 'E:\\Deep_learning\\data' , train = False , transform = trans , download = True)\n",
    "\n",
    "batch_size = 256\n",
    "\n",
    "train_iter = DataLoader(mnist_train , batch_size , shuffle = True , num_workers = 0 , drop_last = False)\n",
    "text_iter = DataLoader(mnist_test , batch_size , shuffle = False , num_workers = 0 , drop_last = False)\n",
    "\n",
    "for epoch in range(2):\n",
    "    step = 2\n",
    "    for data in train_iter:\n",
    "        img , labels = data\n",
    "        writer.add_images(\"test_data_drop_last\",img,step)\n",
    "        step += 1\n",
    "\n",
    "writer.close()"
   ]
  },
  {
   "cell_type": "code",
   "execution_count": 5,
   "metadata": {},
   "outputs": [],
   "source": [
    "input = 784\n",
    "output = 10\n",
    "w = torch.normal(0 , 0.01 , size = (input,output),requires_grad = True)\n",
    "b = torch.zeros(input , requires_grad = True)"
   ]
  },
  {
   "cell_type": "code",
   "execution_count": 30,
   "metadata": {},
   "outputs": [
    {
     "data": {
      "text/plain": [
       "(tensor([[5., 7., 9.]]),\n",
       " tensor([[ 6.],\n",
       "         [15.]]))"
      ]
     },
     "execution_count": 30,
     "metadata": {},
     "output_type": "execute_result"
    }
   ],
   "source": [
    "X = torch.Tensor([[1.0 , 2.0 , 3.0],[4.0 , 5.0 , 6.0]])\n",
    "X.sum(0 , keepdim = True) , X.sum(1 , keepdim = True)"
   ]
  },
  {
   "cell_type": "code",
   "execution_count": 31,
   "metadata": {},
   "outputs": [],
   "source": [
    "def softmax(X):\n",
    "    X_exp = torch.exp(X)\n",
    "    partition = X_exp.sum(1 , keepdim = True)\n",
    "    return X_exp / partition"
   ]
  },
  {
   "cell_type": "code",
   "execution_count": 33,
   "metadata": {},
   "outputs": [
    {
     "data": {
      "text/plain": [
       "(tensor([[0.0184, 0.5177, 0.2706, 0.1307, 0.0627],\n",
       "         [0.0374, 0.3255, 0.0696, 0.4956, 0.0719]]),\n",
       " tensor([1., 1.]))"
      ]
     },
     "execution_count": 33,
     "metadata": {},
     "output_type": "execute_result"
    }
   ],
   "source": [
    "X = torch.normal(0, 1, (2, 5))\n",
    "X_prob = softmax(X)\n",
    "X_prob, X_prob.sum(1)"
   ]
  },
  {
   "cell_type": "code",
   "execution_count": 34,
   "metadata": {},
   "outputs": [],
   "source": [
    "def net(X):\n",
    "    return softmax(torch.matmul(X.reshape((-1, W.shape[0])), W) + b)"
   ]
  },
  {
   "cell_type": "code",
   "execution_count": null,
   "metadata": {},
   "outputs": [],
   "source": []
  }
 ],
 "metadata": {
  "kernelspec": {
   "display_name": "lab",
   "language": "python",
   "name": "python3"
  },
  "language_info": {
   "codemirror_mode": {
    "name": "ipython",
    "version": 3
   },
   "file_extension": ".py",
   "mimetype": "text/x-python",
   "name": "python",
   "nbconvert_exporter": "python",
   "pygments_lexer": "ipython3",
   "version": "3.11.9"
  }
 },
 "nbformat": 4,
 "nbformat_minor": 2
}
