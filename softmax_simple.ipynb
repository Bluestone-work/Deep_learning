{
 "cells": [
  {
   "cell_type": "code",
   "execution_count": 27,
   "metadata": {},
   "outputs": [],
   "source": [
    "import torch\n",
    "import torchvision\n",
    "from torch.utils.data import DataLoader\n",
    "from torch import nn\n",
    "from d2l import torch as d2l\n",
    "from torch.utils.tensorboard import SummaryWriter\n",
    "\n",
    "device = torch.device(\"cuda\" if torch.cuda.is_available() else \"cpu\")\n",
    "trans = torchvision.transforms.ToTensor()\n",
    "\n",
    "mnist_train = torchvision.datasets.FashionMNIST(root = 'E:\\Deep_learning\\data' , train = True , transform = trans , download = True)\n",
    "mnist_test = torchvision.datasets.FashionMNIST(root = 'E:\\Deep_learning\\data' , train = False , transform = trans , download = True)\n",
    "\n",
    "batch_size = 256\n",
    "\n",
    "train_iter = DataLoader(mnist_train , batch_size , shuffle = True , num_workers = 0 , drop_last = False)\n",
    "text_iter = DataLoader(mnist_test , batch_size , shuffle = False , num_workers = 0 , drop_last = False)"
   ]
  },
  {
   "cell_type": "code",
   "execution_count": 28,
   "metadata": {},
   "outputs": [],
   "source": [
    "import torch.nn.functional as F\n",
    "\n",
    "def init_weights(m):\n",
    "    if type(m) == nn.Linear:\n",
    "        nn.init.normal_(m.weight, std=0.01)\n",
    "\n",
    "class Net(nn.Module):\n",
    "    def __init__(self, *args, **kwargs) -> None:\n",
    "        super().__init__(*args, **kwargs)\n",
    "        self.fl = nn.Flatten()\n",
    "        self.fc1 = nn.Linear(28*28 , 10)\n",
    "    \n",
    "    def forward(self, x):\n",
    "        x = self.fl(x)\n",
    "        x = F.softmax(self.fc1(x))\n",
    "        return x"
   ]
  },
  {
   "cell_type": "code",
   "execution_count": 32,
   "metadata": {},
   "outputs": [
    {
     "name": "stderr",
     "output_type": "stream",
     "text": [
      "C:\\Users\\Jiangwang\\AppData\\Local\\Temp\\ipykernel_10728\\182882822.py:15: UserWarning: Implicit dimension choice for softmax has been deprecated. Change the call to include dim=X as an argument.\n",
      "  x = F.softmax(self.fc1(x))\n"
     ]
    }
   ],
   "source": [
    "net = Net().to(device)\n",
    "#net.apply(init_weights)\n",
    "loss = nn.CrossEntropyLoss()\n",
    "loss = loss.to(device)\n",
    "trainer = torch.optim.SGD(net.parameters(), lr=0.1)\n",
    "num_epochs = 1000\n",
    "total_train_step = 0\n",
    "total_test_step = 0\n",
    "writer = SummaryWriter(\"log\")\n",
    "\n",
    "for epoch in range(num_epochs):\n",
    "    #训练\n",
    "    #print(\"----------第{}轮训练开始----------\".format(epoch + 1))\n",
    "    net.train()\n",
    "    for data in train_iter:\n",
    "        X , y = data\n",
    "        X = X.to(device)\n",
    "        y = y.to(device)\n",
    "        y_hat = net(X)\n",
    "        l = loss(y_hat , y)\n",
    "        trainer.zero_grad()\n",
    "        l.mean().backward()\n",
    "        trainer.step()\n",
    "        total_train_step += 1\n",
    "        if total_train_step % 100 == 0:\n",
    "            #print(\"训练次数{},Loss:{}\".format(total_train_step,l.item()))\n",
    "            writer.add_scalar(\"train_loss\",l.item(),total_train_step)\n",
    "    #测试\n",
    "    net.eval()\n",
    "    total_test_loss = 0\n",
    "    total_accurancy = 0\n",
    "    with torch.no_grad():\n",
    "        for data in  text_iter:\n",
    "            X , y = data\n",
    "            X = X.to(device)\n",
    "            y = y.to(device)\n",
    "            y_hat = net(X)\n",
    "            l = loss(y_hat , y)\n",
    "            total_test_loss += l.item()\n",
    "            accuracy = (y_hat.argmax(1) == y).sum()\n",
    "            total_accurancy += accuracy\n",
    "    #print(\"整体测试集上的Loss：{}\".format(total_test_loss))\n",
    "    #print(\"整体测试集上的正确率：{}\".format(total_accurancy / len(mnist_test)))\n",
    "    writer.add_scalar(\"test_loss\",total_test_loss,total_test_step)\n",
    "    writer.add_scalar(\"test_accurancy\",total_accurancy / len(mnist_test),total_test_step)\n",
    "    total_test_step += 1\n",
    "    \n",
    "    torch.save(net , \"E:/Deep_learning/m/net_{}.pth\".format(epoch + 1))\n",
    "    #print(\"模型已保存\")\n",
    "\n",
    "writer.close()\n",
    "        "
   ]
  },
  {
   "cell_type": "code",
   "execution_count": null,
   "metadata": {},
   "outputs": [],
   "source": []
  }
 ],
 "metadata": {
  "kernelspec": {
   "display_name": "lab",
   "language": "python",
   "name": "python3"
  },
  "language_info": {
   "codemirror_mode": {
    "name": "ipython",
    "version": 3
   },
   "file_extension": ".py",
   "mimetype": "text/x-python",
   "name": "python",
   "nbconvert_exporter": "python",
   "pygments_lexer": "ipython3",
   "version": "3.11.9"
  }
 },
 "nbformat": 4,
 "nbformat_minor": 2
}
