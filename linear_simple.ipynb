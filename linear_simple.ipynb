{
 "cells": [
  {
   "cell_type": "code",
   "execution_count": 3,
   "metadata": {},
   "outputs": [],
   "source": [
    "import torch\n",
    "import numpy as np\n",
    "from torch.utils import data\n",
    "from d2l import torch as d2l\n",
    "\n",
    "true_w = torch.tensor([2,-3.4])\n",
    "true_b = 4.2\n",
    "features , lables = d2l.synthetic_data(true_w , true_b , 1000)"
   ]
  },
  {
   "cell_type": "code",
   "execution_count": 5,
   "metadata": {},
   "outputs": [
    {
     "data": {
      "text/plain": [
       "[tensor([[ 0.5998, -0.0769],\n",
       "         [-0.5991, -0.4982],\n",
       "         [-0.4692, -0.6772],\n",
       "         [ 0.9906,  1.6398],\n",
       "         [-0.5945,  1.1998],\n",
       "         [-0.6116, -0.6946],\n",
       "         [-0.7574, -1.0748],\n",
       "         [-0.6633, -0.2310],\n",
       "         [-0.2348,  1.0223],\n",
       "         [ 1.0434, -0.6695]]),\n",
       " tensor([[ 5.6547],\n",
       "         [ 4.6959],\n",
       "         [ 5.5644],\n",
       "         [ 0.6057],\n",
       "         [-1.0696],\n",
       "         [ 5.3341],\n",
       "         [ 6.3170],\n",
       "         [ 3.6701],\n",
       "         [ 0.2497],\n",
       "         [ 8.5669]])]"
      ]
     },
     "execution_count": 5,
     "metadata": {},
     "output_type": "execute_result"
    }
   ],
   "source": [
    "def load_array(data_arrays , batch_size , is_train = True):\n",
    "    dataset = data.TensorDataset(*data_arrays)\n",
    "    if(is_train):\n",
    "        return data.DataLoader(dataset,batch_size,shuffle=True)\n",
    "    else:\n",
    "        return data.DataLoader(dataset,batch_size,shuffle=False)\n",
    "\n",
    "batch_size = 10\n",
    "data_iter = load_array((features,lables),batch_size)\n",
    "\n",
    "next(iter(data_iter))"
   ]
  },
  {
   "cell_type": "code",
   "execution_count": 7,
   "metadata": {},
   "outputs": [],
   "source": [
    "from torch import nn\n",
    "import torch.nn.functional as F\n",
    "\n",
    "class Net(nn.Module):\n",
    "    def __init__(self, *args, **kwargs) -> None:\n",
    "        super().__init__(*args, **kwargs)\n",
    "        self.fc1 = nn.Linear(2 , 1)\n",
    "    \n",
    "    def forward(self, x):\n",
    "        x = self.fc1(x)\n",
    "        return x\n",
    "    \n",
    "net = Net()"
   ]
  },
  {
   "cell_type": "code",
   "execution_count": 9,
   "metadata": {},
   "outputs": [
    {
     "name": "stdout",
     "output_type": "stream",
     "text": [
      "Net(\n",
      "  (fc1): Linear(in_features=2, out_features=1, bias=True)\n",
      ")\n"
     ]
    }
   ],
   "source": [
    "print(net)\n",
    "loss = nn.MSELoss()\n",
    "trainer = torch.optim.SGD(net.parameters(),lr = 0.3)"
   ]
  },
  {
   "cell_type": "code",
   "execution_count": 10,
   "metadata": {},
   "outputs": [
    {
     "name": "stdout",
     "output_type": "stream",
     "text": [
      "epoch1,loss0.000111\n",
      "epoch2,loss0.000116\n",
      "epoch3,loss0.000128\n"
     ]
    }
   ],
   "source": [
    "num_epoch = 3\n",
    "for epoch in range(num_epoch):\n",
    "    for X , y in data_iter:\n",
    "        trainer.zero_grad()\n",
    "        l = loss(net(X),y)\n",
    "        l.backward()\n",
    "        trainer.step()\n",
    "    l = loss(net(features),lables)\n",
    "    print(f'epoch{epoch + 1},loss{l:f}')\n",
    "        "
   ]
  }
 ],
 "metadata": {
  "kernelspec": {
   "display_name": "lab",
   "language": "python",
   "name": "python3"
  },
  "language_info": {
   "codemirror_mode": {
    "name": "ipython",
    "version": 3
   },
   "file_extension": ".py",
   "mimetype": "text/x-python",
   "name": "python",
   "nbconvert_exporter": "python",
   "pygments_lexer": "ipython3",
   "version": "3.11.9"
  }
 },
 "nbformat": 4,
 "nbformat_minor": 2
}
